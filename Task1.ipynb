{
 "cells": [
  {
   "cell_type": "markdown",
   "id": "f58521d7",
   "metadata": {},
   "source": [
    "# THE SPARKS FOUNDATION - GRIP"
   ]
  },
  {
   "cell_type": "markdown",
   "id": "2d14b6e2",
   "metadata": {},
   "source": [
    "# DATA SCIENCE AND BUSINESS ANALYTICS"
   ]
  },
  {
   "cell_type": "markdown",
   "id": "2fd97f07",
   "metadata": {},
   "source": [
    "# Problem Statement"
   ]
  },
  {
   "cell_type": "markdown",
   "id": "d89a4231",
   "metadata": {},
   "source": [
    "In this regression task we will predict the percentage of marks that a student is expected to score based upon the number of hours they studied. This is a simple linear regression task as it involves just two variables"
   ]
  },
  {
   "cell_type": "markdown",
   "id": "7ea14f10",
   "metadata": {},
   "source": [
    "# To predict"
   ]
  },
  {
   "cell_type": "markdown",
   "id": "fb95359d",
   "metadata": {},
   "source": [
    "What will be the predicted score if a student studies for 9.25 hrs/day? "
   ]
  },
  {
   "cell_type": "markdown",
   "id": "d8931a8b",
   "metadata": {},
   "source": [
    "# Author: Siyona Sebastian"
   ]
  },
  {
   "cell_type": "markdown",
   "id": "45017195",
   "metadata": {},
   "source": [
    "# Step 1: Importing the dataset"
   ]
  },
  {
   "cell_type": "code",
   "execution_count": 2,
   "id": "2d1a7fcf",
   "metadata": {},
   "outputs": [],
   "source": [
    "import pandas as pd\n",
    "import numpy as np\n"
   ]
  },
  {
   "cell_type": "code",
   "execution_count": 3,
   "id": "a6a6eece",
   "metadata": {},
   "outputs": [
    {
     "name": "stdout",
     "output_type": "stream",
     "text": [
      "Requirement already satisfied: lux-api in c:\\users\\siyona\\anaconda3\\lib\\site-packages (0.5.1)\n",
      "Requirement already satisfied: scipy>=1.3.3 in c:\\users\\siyona\\anaconda3\\lib\\site-packages (from lux-api) (1.10.1)\n",
      "Requirement already satisfied: altair>=4.0.0 in c:\\users\\siyona\\anaconda3\\lib\\site-packages (from lux-api) (5.3.0)\n",
      "Requirement already satisfied: numpy>=1.16.5 in c:\\users\\siyona\\anaconda3\\lib\\site-packages (from lux-api) (1.24.3)\n",
      "Requirement already satisfied: pandas in c:\\users\\siyona\\anaconda3\\lib\\site-packages (from lux-api) (1.5.3)\n",
      "Requirement already satisfied: scikit-learn>=0.22 in c:\\users\\siyona\\anaconda3\\lib\\site-packages (from lux-api) (1.2.2)\n",
      "Requirement already satisfied: matplotlib>=3.0.0 in c:\\users\\siyona\\anaconda3\\lib\\site-packages (from lux-api) (3.7.1)\n",
      "Requirement already satisfied: lux-widget>=0.1.4 in c:\\users\\siyona\\anaconda3\\lib\\site-packages (from lux-api) (0.1.11)\n",
      "Requirement already satisfied: autopep8>=1.5 in c:\\users\\siyona\\anaconda3\\lib\\site-packages (from lux-api) (1.6.0)\n",
      "Requirement already satisfied: iso3166 in c:\\users\\siyona\\anaconda3\\lib\\site-packages (from lux-api) (2.1.1)\n",
      "Requirement already satisfied: psutil>=5.9.0 in c:\\users\\siyona\\appdata\\roaming\\python\\python311\\site-packages (from lux-api) (5.9.8)\n",
      "Requirement already satisfied: sh in c:\\users\\siyona\\anaconda3\\lib\\site-packages (from lux-api) (2.0.7)\n",
      "Requirement already satisfied: jinja2 in c:\\users\\siyona\\anaconda3\\lib\\site-packages (from altair>=4.0.0->lux-api) (3.1.2)\n",
      "Requirement already satisfied: jsonschema>=3.0 in c:\\users\\siyona\\anaconda3\\lib\\site-packages (from altair>=4.0.0->lux-api) (4.17.3)\n",
      "Requirement already satisfied: packaging in c:\\users\\siyona\\appdata\\roaming\\python\\python311\\site-packages (from altair>=4.0.0->lux-api) (24.0)\n",
      "Requirement already satisfied: toolz in c:\\users\\siyona\\anaconda3\\lib\\site-packages (from altair>=4.0.0->lux-api) (0.12.0)\n",
      "Requirement already satisfied: pycodestyle>=2.8.0 in c:\\users\\siyona\\anaconda3\\lib\\site-packages (from autopep8>=1.5->lux-api) (2.10.0)\n",
      "Requirement already satisfied: toml in c:\\users\\siyona\\anaconda3\\lib\\site-packages (from autopep8>=1.5->lux-api) (0.10.2)\n",
      "Requirement already satisfied: notebook>=4.0.0 in c:\\users\\siyona\\anaconda3\\lib\\site-packages (from lux-widget>=0.1.4->lux-api) (6.5.4)\n",
      "Requirement already satisfied: ipywidgets>=7.5.0 in c:\\users\\siyona\\anaconda3\\lib\\site-packages (from lux-widget>=0.1.4->lux-api) (8.0.4)\n",
      "Requirement already satisfied: contourpy>=1.0.1 in c:\\users\\siyona\\anaconda3\\lib\\site-packages (from matplotlib>=3.0.0->lux-api) (1.0.5)\n",
      "Requirement already satisfied: cycler>=0.10 in c:\\users\\siyona\\anaconda3\\lib\\site-packages (from matplotlib>=3.0.0->lux-api) (0.11.0)\n",
      "Requirement already satisfied: fonttools>=4.22.0 in c:\\users\\siyona\\anaconda3\\lib\\site-packages (from matplotlib>=3.0.0->lux-api) (4.25.0)\n",
      "Requirement already satisfied: kiwisolver>=1.0.1 in c:\\users\\siyona\\anaconda3\\lib\\site-packages (from matplotlib>=3.0.0->lux-api) (1.4.4)\n",
      "Requirement already satisfied: pillow>=6.2.0 in c:\\users\\siyona\\anaconda3\\lib\\site-packages (from matplotlib>=3.0.0->lux-api) (9.4.0)\n",
      "Requirement already satisfied: pyparsing>=2.3.1 in c:\\users\\siyona\\anaconda3\\lib\\site-packages (from matplotlib>=3.0.0->lux-api) (3.0.9)\n",
      "Requirement already satisfied: python-dateutil>=2.7 in c:\\users\\siyona\\appdata\\roaming\\python\\python311\\site-packages (from matplotlib>=3.0.0->lux-api) (2.9.0.post0)\n",
      "Requirement already satisfied: pytz>=2020.1 in c:\\users\\siyona\\anaconda3\\lib\\site-packages (from pandas->lux-api) (2022.7)\n",
      "Requirement already satisfied: joblib>=1.1.1 in c:\\users\\siyona\\anaconda3\\lib\\site-packages (from scikit-learn>=0.22->lux-api) (1.2.0)\n",
      "Requirement already satisfied: threadpoolctl>=2.0.0 in c:\\users\\siyona\\anaconda3\\lib\\site-packages (from scikit-learn>=0.22->lux-api) (2.2.0)\n",
      "Requirement already satisfied: ipykernel>=4.5.1 in c:\\users\\siyona\\appdata\\roaming\\python\\python311\\site-packages (from ipywidgets>=7.5.0->lux-widget>=0.1.4->lux-api) (6.29.3)\n",
      "Requirement already satisfied: ipython>=6.1.0 in c:\\users\\siyona\\anaconda3\\lib\\site-packages (from ipywidgets>=7.5.0->lux-widget>=0.1.4->lux-api) (8.12.0)\n",
      "Requirement already satisfied: traitlets>=4.3.1 in c:\\users\\siyona\\anaconda3\\lib\\site-packages (from ipywidgets>=7.5.0->lux-widget>=0.1.4->lux-api) (5.7.1)\n",
      "Requirement already satisfied: widgetsnbextension~=4.0 in c:\\users\\siyona\\anaconda3\\lib\\site-packages (from ipywidgets>=7.5.0->lux-widget>=0.1.4->lux-api) (4.0.5)\n",
      "Requirement already satisfied: jupyterlab-widgets~=3.0 in c:\\users\\siyona\\anaconda3\\lib\\site-packages (from ipywidgets>=7.5.0->lux-widget>=0.1.4->lux-api) (3.0.5)\n",
      "Requirement already satisfied: attrs>=17.4.0 in c:\\users\\siyona\\anaconda3\\lib\\site-packages (from jsonschema>=3.0->altair>=4.0.0->lux-api) (22.1.0)\n",
      "Requirement already satisfied: pyrsistent!=0.17.0,!=0.17.1,!=0.17.2,>=0.14.0 in c:\\users\\siyona\\anaconda3\\lib\\site-packages (from jsonschema>=3.0->altair>=4.0.0->lux-api) (0.18.0)\n",
      "Requirement already satisfied: tornado>=6.1 in c:\\users\\siyona\\appdata\\roaming\\python\\python311\\site-packages (from notebook>=4.0.0->lux-widget>=0.1.4->lux-api) (6.4)\n",
      "Requirement already satisfied: pyzmq>=17 in c:\\users\\siyona\\appdata\\roaming\\python\\python311\\site-packages (from notebook>=4.0.0->lux-widget>=0.1.4->lux-api) (25.1.2)\n",
      "Requirement already satisfied: argon2-cffi in c:\\users\\siyona\\anaconda3\\lib\\site-packages (from notebook>=4.0.0->lux-widget>=0.1.4->lux-api) (21.3.0)\n",
      "Requirement already satisfied: jupyter-core>=4.6.1 in c:\\users\\siyona\\appdata\\roaming\\python\\python311\\site-packages (from notebook>=4.0.0->lux-widget>=0.1.4->lux-api) (5.7.2)\n",
      "Requirement already satisfied: jupyter-client>=5.3.4 in c:\\users\\siyona\\appdata\\roaming\\python\\python311\\site-packages (from notebook>=4.0.0->lux-widget>=0.1.4->lux-api) (8.6.1)\n",
      "Requirement already satisfied: ipython-genutils in c:\\users\\siyona\\anaconda3\\lib\\site-packages (from notebook>=4.0.0->lux-widget>=0.1.4->lux-api) (0.2.0)\n",
      "Requirement already satisfied: nbformat in c:\\users\\siyona\\anaconda3\\lib\\site-packages (from notebook>=4.0.0->lux-widget>=0.1.4->lux-api) (5.7.0)\n",
      "Requirement already satisfied: nbconvert>=5 in c:\\users\\siyona\\anaconda3\\lib\\site-packages (from notebook>=4.0.0->lux-widget>=0.1.4->lux-api) (6.5.4)\n",
      "Requirement already satisfied: nest-asyncio>=1.5 in c:\\users\\siyona\\appdata\\roaming\\python\\python311\\site-packages (from notebook>=4.0.0->lux-widget>=0.1.4->lux-api) (1.6.0)\n",
      "Requirement already satisfied: Send2Trash>=1.8.0 in c:\\users\\siyona\\anaconda3\\lib\\site-packages (from notebook>=4.0.0->lux-widget>=0.1.4->lux-api) (1.8.0)\n",
      "Requirement already satisfied: terminado>=0.8.3 in c:\\users\\siyona\\anaconda3\\lib\\site-packages (from notebook>=4.0.0->lux-widget>=0.1.4->lux-api) (0.17.1)\n",
      "Requirement already satisfied: prometheus-client in c:\\users\\siyona\\anaconda3\\lib\\site-packages (from notebook>=4.0.0->lux-widget>=0.1.4->lux-api) (0.14.1)\n",
      "Requirement already satisfied: nbclassic>=0.4.7 in c:\\users\\siyona\\anaconda3\\lib\\site-packages (from notebook>=4.0.0->lux-widget>=0.1.4->lux-api) (0.5.5)\n",
      "Requirement already satisfied: six>=1.5 in c:\\users\\siyona\\appdata\\roaming\\python\\python311\\site-packages (from python-dateutil>=2.7->matplotlib>=3.0.0->lux-api) (1.16.0)\n",
      "Requirement already satisfied: MarkupSafe>=2.0 in c:\\users\\siyona\\anaconda3\\lib\\site-packages (from jinja2->altair>=4.0.0->lux-api) (2.1.1)\n",
      "Requirement already satisfied: comm>=0.1.1 in c:\\users\\siyona\\appdata\\roaming\\python\\python311\\site-packages (from ipykernel>=4.5.1->ipywidgets>=7.5.0->lux-widget>=0.1.4->lux-api) (0.2.2)\n",
      "Requirement already satisfied: debugpy>=1.6.5 in c:\\users\\siyona\\appdata\\roaming\\python\\python311\\site-packages (from ipykernel>=4.5.1->ipywidgets>=7.5.0->lux-widget>=0.1.4->lux-api) (1.8.1)\n",
      "Requirement already satisfied: matplotlib-inline>=0.1 in c:\\users\\siyona\\appdata\\roaming\\python\\python311\\site-packages (from ipykernel>=4.5.1->ipywidgets>=7.5.0->lux-widget>=0.1.4->lux-api) (0.1.6)\n",
      "Requirement already satisfied: backcall in c:\\users\\siyona\\anaconda3\\lib\\site-packages (from ipython>=6.1.0->ipywidgets>=7.5.0->lux-widget>=0.1.4->lux-api) (0.2.0)\n",
      "Requirement already satisfied: decorator in c:\\users\\siyona\\appdata\\roaming\\python\\python311\\site-packages (from ipython>=6.1.0->ipywidgets>=7.5.0->lux-widget>=0.1.4->lux-api) (5.1.1)\n",
      "Requirement already satisfied: jedi>=0.16 in c:\\users\\siyona\\appdata\\roaming\\python\\python311\\site-packages (from ipython>=6.1.0->ipywidgets>=7.5.0->lux-widget>=0.1.4->lux-api) (0.19.1)\n",
      "Requirement already satisfied: pickleshare in c:\\users\\siyona\\anaconda3\\lib\\site-packages (from ipython>=6.1.0->ipywidgets>=7.5.0->lux-widget>=0.1.4->lux-api) (0.7.5)\n",
      "Requirement already satisfied: prompt-toolkit!=3.0.37,<3.1.0,>=3.0.30 in c:\\users\\siyona\\appdata\\roaming\\python\\python311\\site-packages (from ipython>=6.1.0->ipywidgets>=7.5.0->lux-widget>=0.1.4->lux-api) (3.0.43)\n",
      "Requirement already satisfied: pygments>=2.4.0 in c:\\users\\siyona\\appdata\\roaming\\python\\python311\\site-packages (from ipython>=6.1.0->ipywidgets>=7.5.0->lux-widget>=0.1.4->lux-api) (2.17.2)\n",
      "Requirement already satisfied: stack-data in c:\\users\\siyona\\appdata\\roaming\\python\\python311\\site-packages (from ipython>=6.1.0->ipywidgets>=7.5.0->lux-widget>=0.1.4->lux-api) (0.6.3)\n",
      "Requirement already satisfied: colorama in c:\\users\\siyona\\appdata\\roaming\\python\\python311\\site-packages (from ipython>=6.1.0->ipywidgets>=7.5.0->lux-widget>=0.1.4->lux-api) (0.4.6)\n",
      "Requirement already satisfied: platformdirs>=2.5 in c:\\users\\siyona\\appdata\\roaming\\python\\python311\\site-packages (from jupyter-core>=4.6.1->notebook>=4.0.0->lux-widget>=0.1.4->lux-api) (4.2.0)\n",
      "Requirement already satisfied: pywin32>=300 in c:\\users\\siyona\\appdata\\roaming\\python\\python311\\site-packages (from jupyter-core>=4.6.1->notebook>=4.0.0->lux-widget>=0.1.4->lux-api) (306)\n",
      "Requirement already satisfied: jupyter-server>=1.8 in c:\\users\\siyona\\anaconda3\\lib\\site-packages (from nbclassic>=0.4.7->notebook>=4.0.0->lux-widget>=0.1.4->lux-api) (2.5.0)\n",
      "Requirement already satisfied: notebook-shim>=0.1.0 in c:\\users\\siyona\\anaconda3\\lib\\site-packages (from nbclassic>=0.4.7->notebook>=4.0.0->lux-widget>=0.1.4->lux-api) (0.2.2)\n",
      "Requirement already satisfied: lxml in c:\\users\\siyona\\anaconda3\\lib\\site-packages (from nbconvert>=5->notebook>=4.0.0->lux-widget>=0.1.4->lux-api) (4.9.2)\n",
      "Requirement already satisfied: beautifulsoup4 in c:\\users\\siyona\\anaconda3\\lib\\site-packages (from nbconvert>=5->notebook>=4.0.0->lux-widget>=0.1.4->lux-api) (4.12.2)\n",
      "Requirement already satisfied: bleach in c:\\users\\siyona\\anaconda3\\lib\\site-packages (from nbconvert>=5->notebook>=4.0.0->lux-widget>=0.1.4->lux-api) (4.1.0)\n",
      "Requirement already satisfied: defusedxml in c:\\users\\siyona\\anaconda3\\lib\\site-packages (from nbconvert>=5->notebook>=4.0.0->lux-widget>=0.1.4->lux-api) (0.7.1)\n",
      "Requirement already satisfied: entrypoints>=0.2.2 in c:\\users\\siyona\\anaconda3\\lib\\site-packages (from nbconvert>=5->notebook>=4.0.0->lux-widget>=0.1.4->lux-api) (0.4)\n",
      "Requirement already satisfied: jupyterlab-pygments in c:\\users\\siyona\\anaconda3\\lib\\site-packages (from nbconvert>=5->notebook>=4.0.0->lux-widget>=0.1.4->lux-api) (0.1.2)\n",
      "Requirement already satisfied: mistune<2,>=0.8.1 in c:\\users\\siyona\\anaconda3\\lib\\site-packages (from nbconvert>=5->notebook>=4.0.0->lux-widget>=0.1.4->lux-api) (0.8.4)\n",
      "Requirement already satisfied: nbclient>=0.5.0 in c:\\users\\siyona\\anaconda3\\lib\\site-packages (from nbconvert>=5->notebook>=4.0.0->lux-widget>=0.1.4->lux-api) (0.5.13)\n",
      "Requirement already satisfied: pandocfilters>=1.4.1 in c:\\users\\siyona\\anaconda3\\lib\\site-packages (from nbconvert>=5->notebook>=4.0.0->lux-widget>=0.1.4->lux-api) (1.5.0)\n",
      "Requirement already satisfied: tinycss2 in c:\\users\\siyona\\anaconda3\\lib\\site-packages (from nbconvert>=5->notebook>=4.0.0->lux-widget>=0.1.4->lux-api) (1.2.1)\n",
      "Requirement already satisfied: fastjsonschema in c:\\users\\siyona\\anaconda3\\lib\\site-packages (from nbformat->notebook>=4.0.0->lux-widget>=0.1.4->lux-api) (2.16.2)\n",
      "Requirement already satisfied: pywinpty>=1.1.0 in c:\\users\\siyona\\anaconda3\\lib\\site-packages (from terminado>=0.8.3->notebook>=4.0.0->lux-widget>=0.1.4->lux-api) (2.0.10)\n",
      "Requirement already satisfied: argon2-cffi-bindings in c:\\users\\siyona\\anaconda3\\lib\\site-packages (from argon2-cffi->notebook>=4.0.0->lux-widget>=0.1.4->lux-api) (21.2.0)\n",
      "Requirement already satisfied: parso<0.9.0,>=0.8.3 in c:\\users\\siyona\\appdata\\roaming\\python\\python311\\site-packages (from jedi>=0.16->ipython>=6.1.0->ipywidgets>=7.5.0->lux-widget>=0.1.4->lux-api) (0.8.3)\n",
      "Requirement already satisfied: anyio>=3.1.0 in c:\\users\\siyona\\anaconda3\\lib\\site-packages (from jupyter-server>=1.8->nbclassic>=0.4.7->notebook>=4.0.0->lux-widget>=0.1.4->lux-api) (3.5.0)\n",
      "Requirement already satisfied: jupyter-events>=0.4.0 in c:\\users\\siyona\\anaconda3\\lib\\site-packages (from jupyter-server>=1.8->nbclassic>=0.4.7->notebook>=4.0.0->lux-widget>=0.1.4->lux-api) (0.6.3)\n",
      "Requirement already satisfied: jupyter-server-terminals in c:\\users\\siyona\\anaconda3\\lib\\site-packages (from jupyter-server>=1.8->nbclassic>=0.4.7->notebook>=4.0.0->lux-widget>=0.1.4->lux-api) (0.4.4)\n",
      "Requirement already satisfied: websocket-client in c:\\users\\siyona\\anaconda3\\lib\\site-packages (from jupyter-server>=1.8->nbclassic>=0.4.7->notebook>=4.0.0->lux-widget>=0.1.4->lux-api) (0.58.0)\n",
      "Requirement already satisfied: wcwidth in c:\\users\\siyona\\appdata\\roaming\\python\\python311\\site-packages (from prompt-toolkit!=3.0.37,<3.1.0,>=3.0.30->ipython>=6.1.0->ipywidgets>=7.5.0->lux-widget>=0.1.4->lux-api) (0.2.13)\n",
      "Requirement already satisfied: cffi>=1.0.1 in c:\\users\\siyona\\anaconda3\\lib\\site-packages (from argon2-cffi-bindings->argon2-cffi->notebook>=4.0.0->lux-widget>=0.1.4->lux-api) (1.15.1)\n",
      "Requirement already satisfied: soupsieve>1.2 in c:\\users\\siyona\\anaconda3\\lib\\site-packages (from beautifulsoup4->nbconvert>=5->notebook>=4.0.0->lux-widget>=0.1.4->lux-api) (2.4)\n",
      "Requirement already satisfied: webencodings in c:\\users\\siyona\\anaconda3\\lib\\site-packages (from bleach->nbconvert>=5->notebook>=4.0.0->lux-widget>=0.1.4->lux-api) (0.5.1)\n",
      "Requirement already satisfied: executing>=1.2.0 in c:\\users\\siyona\\appdata\\roaming\\python\\python311\\site-packages (from stack-data->ipython>=6.1.0->ipywidgets>=7.5.0->lux-widget>=0.1.4->lux-api) (2.0.1)\n",
      "Requirement already satisfied: asttokens>=2.1.0 in c:\\users\\siyona\\appdata\\roaming\\python\\python311\\site-packages (from stack-data->ipython>=6.1.0->ipywidgets>=7.5.0->lux-widget>=0.1.4->lux-api) (2.4.1)\n",
      "Requirement already satisfied: pure-eval in c:\\users\\siyona\\appdata\\roaming\\python\\python311\\site-packages (from stack-data->ipython>=6.1.0->ipywidgets>=7.5.0->lux-widget>=0.1.4->lux-api) (0.2.2)\n",
      "Requirement already satisfied: idna>=2.8 in c:\\users\\siyona\\anaconda3\\lib\\site-packages (from anyio>=3.1.0->jupyter-server>=1.8->nbclassic>=0.4.7->notebook>=4.0.0->lux-widget>=0.1.4->lux-api) (3.4)\n",
      "Requirement already satisfied: sniffio>=1.1 in c:\\users\\siyona\\anaconda3\\lib\\site-packages (from anyio>=3.1.0->jupyter-server>=1.8->nbclassic>=0.4.7->notebook>=4.0.0->lux-widget>=0.1.4->lux-api) (1.2.0)\n",
      "Requirement already satisfied: pycparser in c:\\users\\siyona\\anaconda3\\lib\\site-packages (from cffi>=1.0.1->argon2-cffi-bindings->argon2-cffi->notebook>=4.0.0->lux-widget>=0.1.4->lux-api) (2.21)\n",
      "Requirement already satisfied: python-json-logger>=2.0.4 in c:\\users\\siyona\\anaconda3\\lib\\site-packages (from jupyter-events>=0.4.0->jupyter-server>=1.8->nbclassic>=0.4.7->notebook>=4.0.0->lux-widget>=0.1.4->lux-api) (2.0.7)\n",
      "Requirement already satisfied: pyyaml>=5.3 in c:\\users\\siyona\\anaconda3\\lib\\site-packages (from jupyter-events>=0.4.0->jupyter-server>=1.8->nbclassic>=0.4.7->notebook>=4.0.0->lux-widget>=0.1.4->lux-api) (6.0)\n",
      "Requirement already satisfied: rfc3339-validator in c:\\users\\siyona\\anaconda3\\lib\\site-packages (from jupyter-events>=0.4.0->jupyter-server>=1.8->nbclassic>=0.4.7->notebook>=4.0.0->lux-widget>=0.1.4->lux-api) (0.1.4)\n",
      "Requirement already satisfied: rfc3986-validator>=0.1.1 in c:\\users\\siyona\\anaconda3\\lib\\site-packages (from jupyter-events>=0.4.0->jupyter-server>=1.8->nbclassic>=0.4.7->notebook>=4.0.0->lux-widget>=0.1.4->lux-api) (0.1.1)\n",
      "Requirement already satisfied: fqdn in c:\\users\\siyona\\anaconda3\\lib\\site-packages (from jsonschema>=3.0->altair>=4.0.0->lux-api) (1.5.1)\n",
      "Requirement already satisfied: isoduration in c:\\users\\siyona\\anaconda3\\lib\\site-packages (from jsonschema>=3.0->altair>=4.0.0->lux-api) (20.11.0)\n",
      "Requirement already satisfied: jsonpointer>1.13 in c:\\users\\siyona\\anaconda3\\lib\\site-packages (from jsonschema>=3.0->altair>=4.0.0->lux-api) (2.1)\n",
      "Requirement already satisfied: uri-template in c:\\users\\siyona\\anaconda3\\lib\\site-packages (from jsonschema>=3.0->altair>=4.0.0->lux-api) (1.3.0)\n",
      "Requirement already satisfied: webcolors>=1.11 in c:\\users\\siyona\\anaconda3\\lib\\site-packages (from jsonschema>=3.0->altair>=4.0.0->lux-api) (24.6.0)\n",
      "Requirement already satisfied: arrow>=0.15.0 in c:\\users\\siyona\\anaconda3\\lib\\site-packages (from isoduration->jsonschema>=3.0->altair>=4.0.0->lux-api) (1.2.3)\n",
      "Note: you may need to restart the kernel to use updated packages.\n"
     ]
    }
   ],
   "source": [
    "pip install lux-api\n"
   ]
  },
  {
   "cell_type": "code",
   "execution_count": 4,
   "id": "5d765947",
   "metadata": {},
   "outputs": [],
   "source": [
    "import lux"
   ]
  },
  {
   "cell_type": "code",
   "execution_count": 5,
   "id": "7bd3a46b",
   "metadata": {},
   "outputs": [],
   "source": [
    "import matplotlib.pyplot as plt\n",
    "%matplotlib inline"
   ]
  },
  {
   "cell_type": "code",
   "execution_count": 6,
   "id": "d23bb9c8",
   "metadata": {},
   "outputs": [],
   "source": [
    "from sklearn.model_selection import train_test_split\n",
    "from sklearn.linear_model import LinearRegression"
   ]
  },
  {
   "cell_type": "code",
   "execution_count": 7,
   "id": "47231ec5",
   "metadata": {},
   "outputs": [],
   "source": [
    "data=pd.read_csv(\"D:\\Internship\\Task1.csv\")"
   ]
  },
  {
   "cell_type": "code",
   "execution_count": 8,
   "id": "f1b588d0",
   "metadata": {},
   "outputs": [
    {
     "data": {
      "application/vnd.jupyter.widget-view+json": {
       "model_id": "ced53adf2b29488bbc313b41c31ede3f",
       "version_major": 2,
       "version_minor": 0
      },
      "text/plain": [
       "Button(description='Toggle Pandas/Lux', layout=Layout(top='5px', width='140px'), style=ButtonStyle())"
      ]
     },
     "metadata": {},
     "output_type": "display_data"
    },
    {
     "data": {
      "application/vnd.jupyter.widget-view+json": {
       "model_id": "018a408a32514b81ad3ddec366a6388b",
       "version_major": 2,
       "version_minor": 0
      },
      "text/plain": [
       "Output()"
      ]
     },
     "metadata": {},
     "output_type": "display_data"
    }
   ],
   "source": [
    "data"
   ]
  },
  {
   "cell_type": "code",
   "execution_count": 9,
   "id": "712b296d",
   "metadata": {},
   "outputs": [
    {
     "data": {
      "application/vnd.jupyter.widget-view+json": {
       "model_id": "5cb17c6e84054dfabe8a880f64510b8d",
       "version_major": 2,
       "version_minor": 0
      },
      "text/plain": [
       "Button(description='Toggle Pandas/Lux', layout=Layout(top='5px', width='140px'), style=ButtonStyle())"
      ]
     },
     "metadata": {},
     "output_type": "display_data"
    },
    {
     "data": {
      "application/vnd.jupyter.widget-view+json": {
       "model_id": "262450b10dbb4ac48a2cf5086ba7ac55",
       "version_major": 2,
       "version_minor": 0
      },
      "text/plain": [
       "Output()"
      ]
     },
     "metadata": {},
     "output_type": "display_data"
    }
   ],
   "source": [
    "data.head()"
   ]
  },
  {
   "cell_type": "code",
   "execution_count": 12,
   "id": "2a50dc01",
   "metadata": {},
   "outputs": [
    {
     "data": {
      "text/plain": [
       "(25, 2)"
      ]
     },
     "execution_count": 12,
     "metadata": {},
     "output_type": "execute_result"
    }
   ],
   "source": [
    "data.shape"
   ]
  },
  {
   "cell_type": "code",
   "execution_count": 13,
   "id": "fc307562",
   "metadata": {},
   "outputs": [
    {
     "name": "stdout",
     "output_type": "stream",
     "text": [
      "<class 'lux.core.frame.LuxDataFrame'>\n",
      "RangeIndex: 25 entries, 0 to 24\n",
      "Data columns (total 2 columns):\n",
      " #   Column  Non-Null Count  Dtype  \n",
      "---  ------  --------------  -----  \n",
      " 0   Hours   25 non-null     float64\n",
      " 1   Scores  25 non-null     int64  \n",
      "dtypes: float64(1), int64(1)\n",
      "memory usage: 532.0 bytes\n"
     ]
    }
   ],
   "source": [
    "data.info()"
   ]
  },
  {
   "cell_type": "code",
   "execution_count": 14,
   "id": "39b44a18",
   "metadata": {},
   "outputs": [
    {
     "data": {
      "text/plain": [
       "<bound method NDFrame.describe of     Hours  Scores\n",
       "0     2.5      21\n",
       "1     5.1      47\n",
       "2     3.2      27\n",
       "3     8.5      75\n",
       "4     3.5      30\n",
       "5     1.5      20\n",
       "6     9.2      88\n",
       "7     5.5      60\n",
       "8     8.3      81\n",
       "9     2.7      25\n",
       "10    7.7      85\n",
       "11    5.9      62\n",
       "12    4.5      41\n",
       "13    3.3      42\n",
       "14    1.1      17\n",
       "15    8.9      95\n",
       "16    2.5      30\n",
       "17    1.9      24\n",
       "18    6.1      67\n",
       "19    7.4      69\n",
       "20    2.7      30\n",
       "21    4.8      54\n",
       "22    3.8      35\n",
       "23    6.9      76\n",
       "24    7.8      86>"
      ]
     },
     "execution_count": 14,
     "metadata": {},
     "output_type": "execute_result"
    }
   ],
   "source": [
    "data.describe"
   ]
  },
  {
   "cell_type": "code",
   "execution_count": 15,
   "id": "62b9d77f",
   "metadata": {},
   "outputs": [
    {
     "data": {
      "application/vnd.jupyter.widget-view+json": {
       "model_id": "d177b633f2fd439ba7c92cf3bd18d0d1",
       "version_major": 2,
       "version_minor": 0
      },
      "text/plain": [
       "Button(description='Toggle Pandas/Lux', layout=Layout(top='5px', width='140px'), style=ButtonStyle())"
      ]
     },
     "metadata": {},
     "output_type": "display_data"
    },
    {
     "data": {
      "application/vnd.jupyter.widget-view+json": {
       "model_id": "3864cf82a7124551bc2bbf218d4eb691",
       "version_major": 2,
       "version_minor": 0
      },
      "text/plain": [
       "Output()"
      ]
     },
     "metadata": {},
     "output_type": "display_data"
    }
   ],
   "source": [
    "data.isnull().sum()"
   ]
  },
  {
   "cell_type": "markdown",
   "id": "ece04afe",
   "metadata": {},
   "source": [
    "# Step 2: Visualizing data"
   ]
  },
  {
   "cell_type": "code",
   "execution_count": 16,
   "id": "a09d8be7",
   "metadata": {},
   "outputs": [
    {
     "data": {
      "image/png": "[encoded data removed]",
      "text/plain": [
       "<Figure size 2000x1000 with 1 Axes>"
      ]
     },
     "metadata": {},
     "output_type": "display_data"
    }
   ],
   "source": [
    "# Plotting the dataset\n",
    "plt.rcParams[\"figure.figsize\"] = [20,10]\n",
    "data.plot(x='Hours', y='Scores', style='*', color='orange', markersize=15)\n",
    "plt.title('Hours vs Percentage')  \n",
    "plt.xlabel('Hours Studied')  \n",
    "plt.ylabel('Percentage Score')  \n",
    "plt.grid()\n",
    "plt.show()"
   ]
  },
  {
   "cell_type": "code",
   "execution_count": 37,
   "id": "ab51907e",
   "metadata": {},
   "outputs": [
    {
     "data": {
      "application/vnd.jupyter.widget-view+json": {
       "model_id": "205fd17a7e364cf88269904156296252",
       "version_major": 2,
       "version_minor": 0
      },
      "text/plain": [
       "Button(description='Toggle Pandas/Lux', layout=Layout(top='5px', width='140px'), style=ButtonStyle())"
      ]
     },
     "metadata": {},
     "output_type": "display_data"
    },
    {
     "data": {
      "application/vnd.jupyter.widget-view+json": {
       "model_id": "388ac69739394ea794f4be92ecd0916c",
       "version_major": 2,
       "version_minor": 0
      },
      "text/plain": [
       "Output()"
      ]
     },
     "metadata": {},
     "output_type": "display_data"
    }
   ],
   "source": [
    "data.corr()"
   ]
  },
  {
   "cell_type": "markdown",
   "id": "9114bcaf",
   "metadata": {},
   "source": [
    "From the graph above, we can clearly see that there is a positive linear relationship between the number of hours studied and percentage of score"
   ]
  },
  {
   "cell_type": "markdown",
   "id": "d63f73d5",
   "metadata": {},
   "source": [
    "# Step 3:Preparing the data"
   ]
  },
  {
   "cell_type": "code",
   "execution_count": 19,
   "id": "fd7bbed1",
   "metadata": {},
   "outputs": [
    {
     "data": {
      "text/plain": [
       "Index(['Hours', 'Scores'], dtype='object')"
      ]
     },
     "execution_count": 19,
     "metadata": {},
     "output_type": "execute_result"
    }
   ],
   "source": [
    "data.columns"
   ]
  },
  {
   "cell_type": "code",
   "execution_count": 20,
   "id": "6845a479",
   "metadata": {},
   "outputs": [
    {
     "data": {
      "text/plain": [
       "(25, 2)"
      ]
     },
     "execution_count": 20,
     "metadata": {},
     "output_type": "execute_result"
    }
   ],
   "source": [
    "data.shape"
   ]
  },
  {
   "cell_type": "code",
   "execution_count": 21,
   "id": "5bb1bbf0",
   "metadata": {},
   "outputs": [],
   "source": [
    "train,test=train_test_split(data,test_size=0.25,random_state=123)"
   ]
  },
  {
   "cell_type": "code",
   "execution_count": 22,
   "id": "eed6dd25",
   "metadata": {},
   "outputs": [
    {
     "data": {
      "text/plain": [
       "(18, 2)"
      ]
     },
     "execution_count": 22,
     "metadata": {},
     "output_type": "execute_result"
    }
   ],
   "source": [
    "train.shape"
   ]
  },
  {
   "cell_type": "code",
   "execution_count": 23,
   "id": "0dd3ee1f",
   "metadata": {},
   "outputs": [
    {
     "data": {
      "text/plain": [
       "(7, 2)"
      ]
     },
     "execution_count": 23,
     "metadata": {},
     "output_type": "execute_result"
    }
   ],
   "source": [
    "test.shape"
   ]
  },
  {
   "cell_type": "code",
   "execution_count": 24,
   "id": "1bd43c2b",
   "metadata": {},
   "outputs": [],
   "source": [
    "train_x=train.drop(\"Scores\",axis=1)\n",
    "train_y=train['Scores']"
   ]
  },
  {
   "cell_type": "code",
   "execution_count": 25,
   "id": "32169eb3",
   "metadata": {},
   "outputs": [],
   "source": [
    "test_x=test.drop(\"Scores\",axis=1)\n",
    "test_y=test['Scores']"
   ]
  },
  {
   "cell_type": "markdown",
   "id": "a988944b",
   "metadata": {},
   "source": [
    "# Step4: Training the Algorithm"
   ]
  },
  {
   "cell_type": "markdown",
   "id": "a3ba8d36",
   "metadata": {},
   "source": [
    "We have split our data into training and testing sets, and now is finally the time to train our algorithm"
   ]
  },
  {
   "cell_type": "code",
   "execution_count": 26,
   "id": "3de202f4",
   "metadata": {},
   "outputs": [],
   "source": [
    "lr=LinearRegression()"
   ]
  },
  {
   "cell_type": "code",
   "execution_count": 27,
   "id": "fc815b24",
   "metadata": {},
   "outputs": [
    {
     "data": {
      "text/html": [
       "<style>#sk-container-id-1 {color: black;background-color: white;}#sk-container-id-1 pre{padding: 0;}#sk-container-id-1 div.sk-toggleable {background-color: white;}#sk-container-id-1 label.sk-toggleable__label {cursor: pointer;display: block;width: 100%;margin-bottom: 0;padding: 0.3em;box-sizing: border-box;text-align: center;}#sk-container-id-1 label.sk-toggleable__label-arrow:before {content: \"▸\";float: left;margin-right: 0.25em;color: #696969;}#sk-container-id-1 label.sk-toggleable__label-arrow:hover:before {color: black;}#sk-container-id-1 div.sk-estimator:hover label.sk-toggleable__label-arrow:before {color: black;}#sk-container-id-1 div.sk-toggleable__content {max-height: 0;max-width: 0;overflow: hidden;text-align: left;background-color: #f0f8ff;}#sk-container-id-1 div.sk-toggleable__content pre {margin: 0.2em;color: black;border-radius: 0.25em;background-color: #f0f8ff;}#sk-container-id-1 input.sk-toggleable__control:checked~div.sk-toggleable__content {max-height: 200px;max-width: 100%;overflow: auto;}#sk-container-id-1 input.sk-toggleable__control:checked~label.sk-toggleable__label-arrow:before {content: \"▾\";}#sk-container-id-1 div.sk-estimator input.sk-toggleable__control:checked~label.sk-toggleable__label {background-color: #d4ebff;}#sk-container-id-1 div.sk-label input.sk-toggleable__control:checked~label.sk-toggleable__label {background-color: #d4ebff;}#sk-container-id-1 input.sk-hidden--visually {border: 0;clip: rect(1px 1px 1px 1px);clip: rect(1px, 1px, 1px, 1px);height: 1px;margin: -1px;overflow: hidden;padding: 0;position: absolute;width: 1px;}#sk-container-id-1 div.sk-estimator {font-family: monospace;background-color: #f0f8ff;border: 1px dotted black;border-radius: 0.25em;box-sizing: border-box;margin-bottom: 0.5em;}#sk-container-id-1 div.sk-estimator:hover {background-color: #d4ebff;}#sk-container-id-1 div.sk-parallel-item::after {content: \"\";width: 100%;border-bottom: 1px solid gray;flex-grow: 1;}#sk-container-id-1 div.sk-label:hover label.sk-toggleable__label {background-color: #d4ebff;}#sk-container-id-1 div.sk-serial::before {content: \"\";position: absolute;border-left: 1px solid gray;box-sizing: border-box;top: 0;bottom: 0;left: 50%;z-index: 0;}#sk-container-id-1 div.sk-serial {display: flex;flex-direction: column;align-items: center;background-color: white;padding-right: 0.2em;padding-left: 0.2em;position: relative;}#sk-container-id-1 div.sk-item {position: relative;z-index: 1;}#sk-container-id-1 div.sk-parallel {display: flex;align-items: stretch;justify-content: center;background-color: white;position: relative;}#sk-container-id-1 div.sk-item::before, #sk-container-id-1 div.sk-parallel-item::before {content: \"\";position: absolute;border-left: 1px solid gray;box-sizing: border-box;top: 0;bottom: 0;left: 50%;z-index: -1;}#sk-container-id-1 div.sk-parallel-item {display: flex;flex-direction: column;z-index: 1;position: relative;background-color: white;}#sk-container-id-1 div.sk-parallel-item:first-child::after {align-self: flex-end;width: 50%;}#sk-container-id-1 div.sk-parallel-item:last-child::after {align-self: flex-start;width: 50%;}#sk-container-id-1 div.sk-parallel-item:only-child::after {width: 0;}#sk-container-id-1 div.sk-dashed-wrapped {border: 1px dashed gray;margin: 0 0.4em 0.5em 0.4em;box-sizing: border-box;padding-bottom: 0.4em;background-color: white;}#sk-container-id-1 div.sk-label label {font-family: monospace;font-weight: bold;display: inline-block;line-height: 1.2em;}#sk-container-id-1 div.sk-label-container {text-align: center;}#sk-container-id-1 div.sk-container {/* jupyter's `normalize.less` sets `[hidden] { display: none; }` but bootstrap.min.css set `[hidden] { display: none !important; }` so we also need the `!important` here to be able to override the default hidden behavior on the sphinx rendered scikit-learn.org. See: https://github.com/scikit-learn/scikit-learn/issues/21755 */display: inline-block !important;position: relative;}#sk-container-id-1 div.sk-text-repr-fallback {display: none;}</style><div id=\"sk-container-id-1\" class=\"sk-top-container\"><div class=\"sk-text-repr-fallback\"><pre>LinearRegression()</pre><b>In a Jupyter environment, please rerun this cell to show the HTML representation or trust the notebook. <br />On GitHub, the HTML representation is unable to render, please try loading this page with nbviewer.org.</b></div><div class=\"sk-container\" hidden><div class=\"sk-item\"><div class=\"sk-estimator sk-toggleable\"><input class=\"sk-toggleable__control sk-hidden--visually\" id=\"sk-estimator-id-1\" type=\"checkbox\" checked><label for=\"sk-estimator-id-1\" class=\"sk-toggleable__label sk-toggleable__label-arrow\">LinearRegression</label><div class=\"sk-toggleable__content\"><pre>LinearRegression()</pre></div></div></div></div></div>"
      ],
      "text/plain": [
       "LinearRegression()"
      ]
     },
     "execution_count": 27,
     "metadata": {},
     "output_type": "execute_result"
    }
   ],
   "source": [
    "lr.fit(train_x,train_y)"
   ]
  },
  {
   "cell_type": "code",
   "execution_count": 28,
   "id": "92caab45",
   "metadata": {},
   "outputs": [
    {
     "data": {
      "text/plain": [
       "array([9.61718609])"
      ]
     },
     "execution_count": 28,
     "metadata": {},
     "output_type": "execute_result"
    }
   ],
   "source": [
    "lr.coef_"
   ]
  },
  {
   "cell_type": "code",
   "execution_count": 29,
   "id": "96575e7e",
   "metadata": {},
   "outputs": [
    {
     "data": {
      "text/plain": [
       "2.448617866650629"
      ]
     },
     "execution_count": 29,
     "metadata": {},
     "output_type": "execute_result"
    }
   ],
   "source": [
    "lr.intercept_"
   ]
  },
  {
   "cell_type": "code",
   "execution_count": 31,
   "id": "0833e6d9",
   "metadata": {},
   "outputs": [
    {
     "data": {
      "image/png": "[encoded data removed]",
      "text/plain": [
       "<Figure size 2000x1000 with 1 Axes>"
      ]
     },
     "metadata": {},
     "output_type": "display_data"
    }
   ],
   "source": [
    "line=lr.coef_*train_x+lr.intercept_\n",
    "plt.scatter(train_x,train_y)\n",
    "plt.plot(train_x,line);\n",
    "plt.show()"
   ]
  },
  {
   "cell_type": "markdown",
   "id": "6bf2c7b9",
   "metadata": {},
   "source": [
    "# Step 5: Making Predictions"
   ]
  },
  {
   "cell_type": "code",
   "execution_count": 32,
   "id": "de4c73a9",
   "metadata": {},
   "outputs": [],
   "source": [
    "pr=lr.predict(test_x)\n"
   ]
  },
  {
   "cell_type": "code",
   "execution_count": 33,
   "id": "6bfbae8f",
   "metadata": {},
   "outputs": [
    {
     "data": {
      "text/plain": [
       "[(20, 16.87439700554453),\n",
       " (54, 48.61111111111111),\n",
       " (35, 38.99392501851517),\n",
       " (67, 61.11345303148582),\n",
       " (95, 88.04157409075444),\n",
       " (81, 82.27126243519689),\n",
       " (60, 55.34314137592826)]"
      ]
     },
     "execution_count": 33,
     "metadata": {},
     "output_type": "execute_result"
    }
   ],
   "source": [
    "list(zip(test_y,pr))"
   ]
  },
  {
   "cell_type": "markdown",
   "id": "836680aa",
   "metadata": {},
   "source": [
    "# Step6:Evaluating the model"
   ]
  },
  {
   "cell_type": "code",
   "execution_count": 34,
   "id": "2231c34d",
   "metadata": {},
   "outputs": [],
   "source": [
    "from sklearn.metrics import mean_squared_error"
   ]
  },
  {
   "cell_type": "code",
   "execution_count": 35,
   "id": "8cebe84a",
   "metadata": {},
   "outputs": [
    {
     "data": {
      "text/plain": [
       "4.7978346508753"
      ]
     },
     "execution_count": 35,
     "metadata": {},
     "output_type": "execute_result"
    }
   ],
   "source": [
    "mean_squared_error(test_y,pr,squared=False)"
   ]
  },
  {
   "cell_type": "markdown",
   "id": "218368df",
   "metadata": {},
   "source": [
    "# Step7:Solution"
   ]
  },
  {
   "cell_type": "code",
   "execution_count": 36,
   "id": "9220d1fb",
   "metadata": {},
   "outputs": [
    {
     "name": "stdout",
     "output_type": "stream",
     "text": [
      "No of Hours = [[9.25]]\n",
      "Predicted score = 91.407589223163\n"
     ]
    },
    {
     "name": "stderr",
     "output_type": "stream",
     "text": [
      "C:\\Users\\siyona\\anaconda3\\Lib\\site-packages\\sklearn\\base.py:439: UserWarning:X does not have valid feature names, but LinearRegression was fitted with feature names\n"
     ]
    }
   ],
   "source": [
    "hour=[9.25]\n",
    "own_pr=lr.predict([hour])\n",
    "print(\"No of Hours = {}\".format([hour]))\n",
    "print(\"Predicted score = {}\".format(own_pr[0]))"
   ]
  },
  {
   "cell_type": "code",
   "execution_count": null,
   "id": "32b7420f",
   "metadata": {},
   "outputs": [],
   "source": []
  }
 ],
 "metadata": {
  "kernelspec": {
   "display_name": "Python 3 (ipykernel)",
   "language": "python",
   "name": "python3"
  },
  "language_info": {
   "codemirror_mode": {
    "name": "ipython",
    "version": 3
   },
   "file_extension": ".py",
   "mimetype": "text/x-python",
   "name": "python",
   "nbconvert_exporter": "python",
   "pygments_lexer": "ipython3",
   "version": "3.11.3"
  }
 },
 "nbformat": 4,
 "nbformat_minor": 5
}
